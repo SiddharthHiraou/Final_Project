{
 "cells": [
  {
   "cell_type": "markdown",
   "metadata": {},
   "source": [
    "### StreamLit Code"
   ]
  },
  {
   "cell_type": "code",
   "execution_count": null,
   "metadata": {},
   "outputs": [],
   "source": [
    "import streamlit as st\n",
    "import pandas as pd\n",
    "\n",
    "st.title('Bank Marketing Prediction')\n",
    "\n",
    "st.write('Enter customer information to predict if they will subscribe to a term deposit.')\n",
    "\n",
    "# Input fields\n",
    "age = st.number_input('Age', min_value=18, max_value=100, value=30)\n",
    "job = st.selectbox('Job', ['admin.', 'blue-collar', 'entrepreneur', 'housemaid', 'management', 'retired', 'self-employed', 'services', 'student', 'technician', 'unemployed', 'unknown'])\n",
    "marital = st.selectbox('Marital Status', ['divorced', 'married', 'single'])\n",
    "education = st.selectbox('Education', ['unknown', 'primary', 'secondary', 'tertiary'])\n",
    "balance = st.number_input('Balance', value=0)\n",
    "housing = st.selectbox('Housing Loan', ['yes', 'no'])\n",
    "loan = st.selectbox('Personal Loan', ['yes', 'no'])\n",
    "contact = st.selectbox('Contact Method', ['cellular', 'telephone', 'unknown'])\n",
    "day = st.number_input('Day of Month', min_value=1, max_value=31, value=15)\n",
    "month = st.selectbox('Month', ['jan', 'feb', 'mar', 'apr', 'may', 'jun', 'jul', 'aug', 'sep', 'oct', 'nov', 'dec'])\n",
    "duration = st.number_input('Last Contact Duration (seconds)', min_value=0, value=300)\n",
    "campaign = st.number_input('Number of Contacts', min_value=1, value=1)\n",
    "pdays = st.number_input('Days Since Last Contact', min_value=-1, value=-1)\n",
    "previous = st.number_input('Previous Contacts', min_value=0, value=0)\n",
    "poutcome = st.selectbox('Previous Outcome', ['unknown', 'failure', 'success'])\n",
    "\n",
    "if st.button('Predict'):\n",
    "    # This is a dummy prediction. Replace with your actual model prediction.\n",
    "    prediction = \"Subscribed\" if age > 40 and balance > 1000 else \"Not Subscribed\"\n",
    "    \n",
    "    st.write(f\"Prediction: The customer will likely {prediction} to the term deposit.\")\n",
    "    \n",
    "    # Display input data\n",
    "    st.write(\"Input Data:\")\n",
    "    input_data = pd.DataFrame({\n",
    "        'Feature': ['Age', 'Job', 'Marital Status', 'Education', 'Balance', 'Housing Loan', 'Personal Loan', \n",
    "                    'Contact Method', 'Day', 'Month', 'Duration', 'Campaign', 'Days Since Last Contact', \n",
    "                    'Previous Contacts', 'Previous Outcome'],\n",
    "        'Value': [age, job, marital, education, balance, housing, loan, contact, day, month, \n",
    "                  duration, campaign, pdays, previous, poutcome]\n",
    "    })\n",
    "    st.table(input_data)\n"
   ]
  }
 ],
 "metadata": {
  "language_info": {
   "name": "python"
  }
 },
 "nbformat": 4,
 "nbformat_minor": 2
}
